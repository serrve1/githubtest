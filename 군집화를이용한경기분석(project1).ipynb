{
  "nbformat": 4,
  "nbformat_minor": 0,
  "metadata": {
    "colab": {
      "private_outputs": true,
      "provenance": [],
      "mount_file_id": "1sOyxb3QW-TyZqii9lh8qjYIdRdTOF2TB",
      "authorship_tag": "ABX9TyM9tN3EnvaRBPWwpgZxtsSM",
      "include_colab_link": true
    },
    "kernelspec": {
      "name": "python3",
      "display_name": "Python 3"
    },
    "language_info": {
      "name": "python"
    },
    "accelerator": "TPU"
  },
  "cells": [
    {
      "cell_type": "markdown",
      "metadata": {
        "id": "view-in-github",
        "colab_type": "text"
      },
      "source": [
        "<a href=\"https://colab.research.google.com/github/serrve1/githubtest/blob/main/%EA%B5%B0%EC%A7%91%ED%99%94%EB%A5%BC%EC%9D%B4%EC%9A%A9%ED%95%9C%EA%B2%BD%EA%B8%B0%EB%B6%84%EC%84%9D(project1).ipynb\" target=\"_parent\"><img src=\"https://colab.research.google.com/assets/colab-badge.svg\" alt=\"Open In Colab\"/></a>"
      ]
    },
    {
      "cell_type": "code",
      "source": [
        "# !sudo apt-get install -y fonts-nanum\n",
        "# !sudo fc-cache -fv\n",
        "# !rm ~/.cache/matplotlib -rf\n",
        "# # 한글폰트"
      ],
      "metadata": {
        "id": "_MyJZQCUsV35"
      },
      "execution_count": null,
      "outputs": []
    },
    {
      "cell_type": "markdown",
      "source": [
        "경기분석을 군집화로 해보고 싶은데, 일단 k-means를 한번 생각해볼 수 있음 알고리즘을 제대로 이해하고 있는게 아니기 때문에 위험할 수 있으나 일단....해보자"
      ],
      "metadata": {
        "id": "k1EZXAa6vl7P"
      }
    },
    {
      "cell_type": "markdown",
      "source": [
        "# 1. 기본 패키지 설치"
      ],
      "metadata": {
        "id": "30pi9ZJiu_bf"
      }
    },
    {
      "cell_type": "markdown",
      "source": [
        "1. 기본패키지설치\n",
        "2. 데이터 불러오기\n",
        "2-1. 데이터프레임으로 저장\n",
        "2-2. 자료구조살피기\n",
        "info, columns\n",
        "3. 데이터 전처리\n",
        "drop => 일단 궁금하지 않은거제거\n",
        " 3-1 EDA\n",
        "  - 데이터프레임. describe().round(3)\n",
        "  - sns(시본라이브러리).pairplot(df)\n",
        " 3-2 데이터 표준화\n",
        "  - standardscalar()함수 이용"
      ],
      "metadata": {
        "id": "U-_teZa1vQIr"
      }
    },
    {
      "cell_type": "code",
      "execution_count": null,
      "metadata": {
        "id": "qMOFMnmwDWrc"
      },
      "outputs": [],
      "source": [
        "# 기본패키지 설치\n",
        "import numpy as np\n",
        "import matplotlib.pyplot as plt\n",
        "import seaborn as sns\n",
        "import pandas as pd\n",
        "# 사이킷런\n",
        "from sklearn.preprocessing import StandardScaler# 스케일링이 필요\n",
        "from sklearn.cluster import KMeans # 케이민즈 알고리즘"
      ]
    },
    {
      "cell_type": "markdown",
      "source": [
        "### 2. 데이터불러오기"
      ],
      "metadata": {
        "id": "X0MH7-PYu9E2"
      }
    },
    {
      "cell_type": "markdown",
      "source": [
        "2000년 ~ 2023년 12월까지 가져오기\n",
        "고용 : 실업률, 실업수당 청구건수\n",
        "금리 : 미국 기준금리, 신용스프레드, 장단기 스프레드\n",
        "물가 : PCE, 통화량(M2)\n",
        "실물경제(제조업+주택) : 소매판매, 설비투자지수, 주택가격지수\n",
        "# 분기로 묶을 거임 => 분기를 군집화 할 예정\n",
        "# 거리기반 = 거리 조정이 필요, 시계열 자료의 정상성은 ?\n",
        "=> 필요한지 일단 모르겠고 그대로  \n",
        "\n",
        "#pmi제조업 지수는 시클리컬 하기 때문에 매우 중요\n",
        "제조업 지수를 구할 수 없었고 신규주문으로 대체해보기"
      ],
      "metadata": {
        "id": "J1ekRJwEuIjn"
      }
    },
    {
      "cell_type": "code",
      "source": [
        "# 고용 관련 지표를 가져오기\n",
        "# 실업률, 신규실업수당 청구건수 2가지\n",
        "#!pip install full-fred"
      ],
      "metadata": {
        "id": "gnMj1JQ8wKGH"
      },
      "execution_count": null,
      "outputs": []
    },
    {
      "cell_type": "code",
      "source": [
        "from google.colab import drive\n",
        "drive.mount('/content/drive')"
      ],
      "metadata": {
        "id": "b6JuhE3Pwezd"
      },
      "execution_count": null,
      "outputs": []
    },
    {
      "cell_type": "code",
      "source": [
        "import pandas as pd\n",
        "BAMLH0A0HYM2 = pd.read_csv('/content/drive/MyDrive/프로젝트1/dataset/BAMLH0A0HYM2(신용스프레드).csv')\n",
        "FEDFUNDS = pd.read_csv('/content/drive/MyDrive/프로젝트1/dataset/FEDFUNDS(기준금리)).csv')\n",
        "ICSA =pd.read_csv('/content/drive/MyDrive/프로젝트1/dataset/ICSA(신규실업수당청구).csv')\n",
        "M2= pd.read_csv('/content/drive/MyDrive/프로젝트1/dataset/M2.csv')\n",
        "PCE = pd.read_csv('/content/drive/MyDrive/프로젝트1/dataset/PCE.csv')\n",
        "PNFI = pd.read_csv('/content/drive/MyDrive/프로젝트1/dataset/PNFI(설비투자지수).csv')\n",
        "RSXFS = pd.read_csv('/content/drive/MyDrive/프로젝트1/dataset/RSXFS(소매판매).csv')\n",
        "T10Y2Y = pd.read_csv('/content/drive/MyDrive/프로젝트1/dataset/T10Y2Y(장단기금리차).csv')\n",
        "UNRATE = pd.read_csv('/content/drive/MyDrive/프로젝트1/dataset/UNRATE.csv')\n",
        "USSTHPI = pd.read_csv('/content/drive/MyDrive/프로젝트1/dataset/USSTHPI(주택가격지수).csv')\n",
        "UMTMNO = pd.read_csv('/content/drive/MyDrive/프로젝트1/dataset/UMTMNO(제조업신규주문).csv')"
      ],
      "metadata": {
        "id": "THrBrHBJwdob"
      },
      "execution_count": null,
      "outputs": []
    },
    {
      "cell_type": "markdown",
      "source": [
        " 전체 지표들을 시각화할 것임 1. 추세를 제거하고 변동을 봐야할 것 같음 2. 그렇게 하려면 차분을 통해서 제거해야하나? 아님 다른 방법으로 제거해야하나? 3. 정상성이 중요하다면 ADF 검증이 필요한가? 4. Kmeans를 그냥 써보고 싶은데 정규화하면되나\n",
        " 5. 2000~2022년까지 학습해보기 (코로나 포함)\n",
        " 6. 분기별로 묶어서 구간 보기\n"
      ],
      "metadata": {
        "id": "LYO0WF6Wa5P3"
      }
    },
    {
      "cell_type": "code",
      "source": [
        "# 2번돌리면 에러 사라짐\n",
        "# object를 숫자로 처리하는 한가지 방법\n",
        "BAMLH0A0HYM2.dropna(inplace = True)\n",
        "BAMLH0A0HYM2.BAMLH0A0HYM2 = BAMLH0A0HYM2.BAMLH0A0HYM2.replace('.', pd.NaT)\n",
        "BAMLH0A0HYM2.BAMLH0A0HYM2 = pd.to_numeric(BAMLH0A0HYM2.BAMLH0A0HYM2)\n",
        "#BAMLH0A0HYM2.BAMLH0A0HYM2\n",
        "\n",
        "# object => 정수로 변경\n",
        "T10Y2Y.T10Y2Y = T10Y2Y.T10Y2Y.replace('.', pd.NaT)\n",
        "T10Y2Y.T10Y2Y = pd.to_numeric(T10Y2Y.T10Y2Y,errors='coerce')"
      ],
      "metadata": {
        "id": "1lsFdiojcGBt"
      },
      "execution_count": null,
      "outputs": []
    },
    {
      "cell_type": "code",
      "source": [
        "# 결측치는 전부 제거해주기\n",
        "BAMLH0A0HYM2.dropna(inplace = True)\n",
        "FEDFUNDS.dropna(inplace = True)\n",
        "ICSA.dropna(inplace = True)\n",
        "M2.dropna(inplace = True)\n",
        "PCE.dropna(inplace = True)\n",
        "PNFI.dropna(inplace = True)\n",
        "RSXFS.dropna(inplace = True)\n",
        "T10Y2Y.dropna(inplace = True)\n",
        "UNRATE.dropna(inplace = True)\n",
        "USSTHPI.dropna(inplace = True)\n",
        "UMTMNO.dropna(inplace = True)"
      ],
      "metadata": {
        "id": "VD4z2zOlHsqq"
      },
      "execution_count": null,
      "outputs": []
    },
    {
      "cell_type": "code",
      "source": [
        "BAMLH0A0HYM2.info() #타입이 실수형이어야"
      ],
      "metadata": {
        "id": "TnwHJV3OLEll"
      },
      "execution_count": null,
      "outputs": []
    },
    {
      "cell_type": "code",
      "source": [
        "list = [BAMLH0A0HYM2, FEDFUNDS, ICSA, M2, PCE,PNFI,RSXFS,T10Y2Y,UNRATE,USSTHPI,UMTMNO ]\n",
        "#BAMLH0A0HYM2['DATE'] = pd.to_datetime(BAMLH0A0HYM2['DATE'])\n",
        "# 모든 Date를 datetime으로 바꿔줌\n",
        "for i in list:\n",
        "    i['DATE'] = pd.to_datetime(i['DATE'])"
      ],
      "metadata": {
        "id": "d58X6L7VHsir"
      },
      "execution_count": null,
      "outputs": []
    },
    {
      "cell_type": "code",
      "source": [
        "# # 'Year'와 'Month' 컬럼 추가\n",
        "#BAMLH0A0HYM2_ = pd.DataFrame() # 분기별로 묶은 새로운 데이터 프레임 형성\n",
        "# # 'Year'와 'Month'를 기준으로 그룹화하여 각 그룹에 대해 평균 계산, 예를들어 분기\n",
        "BAMLH0A0HYM2['Year'] = BAMLH0A0HYM2['DATE'].dt.year\n",
        "BAMLH0A0HYM2['Month'] = BAMLH0A0HYM2['DATE'].dt.month\n",
        "BAMLH0A0HYM2= BAMLH0A0HYM2.groupby(['Year', 'Month']).mean().reset_index()\n",
        "#BAMLH0A0HYM2 이 데이터가 가장 많이 존재하므로 이걸 기준으로 합칠 것\n",
        "#list = [BAMLH0A0HYM2, FEDFUNDS, ICSA, M2, PCE,PNFI,RSXFS,T10Y2Y,UNRATE,USSTHPI,UMTMNO ]\n",
        "BAMLH0A0HYM2['BAMLH0A0HYM2_분기평균'] = BAMLH0A0HYM2.iloc[:,2].rolling(window = 3).mean()"
      ],
      "metadata": {
        "id": "pHGfHNj-M2PI"
      },
      "execution_count": null,
      "outputs": []
    },
    {
      "cell_type": "code",
      "source": [
        "BAMLH0A0HYM2.loc[ 0,'BAMLH0A0HYM2_분기평균'] = BAMLH0A0HYM2.iloc[0]['BAMLH0A0HYM2'] # 2000년 1월은 채워넣어줘야함\n",
        "BAMLH0A0HYM2.iloc[1,-1] =  4.902381\n",
        "# 결측치가 있는 행만 뽑고 싶을 때\n",
        "BAMLH0A0HYM2[BAMLH0A0HYM2.isna().any(axis=1)]"
      ],
      "metadata": {
        "id": "uM_gflypVEOk"
      },
      "execution_count": null,
      "outputs": []
    },
    {
      "cell_type": "code",
      "source": [
        "# 2번째 데이터처리, 월별로 존재\n",
        "FEDFUNDS['Year'] = FEDFUNDS['DATE'].dt.year\n",
        "FEDFUNDS['Month'] = FEDFUNDS['DATE'].dt.month\n",
        "FEDFUNDS= FEDFUNDS.groupby(['Year', 'Month']).mean().reset_index()\n",
        "\n",
        "FEDFUNDS['FEDFUNDS_분기평균'] = FEDFUNDS.iloc[:,2].rolling(window = 3).mean()\n",
        "FEDFUNDS"
      ],
      "metadata": {
        "id": "rKHEx0L6VMBT"
      },
      "execution_count": null,
      "outputs": []
    },
    {
      "cell_type": "code",
      "source": [
        "FEDFUNDS[FEDFUNDS.isna().any(axis=1)]\n",
        "# 결측치 처리\n",
        "FEDFUNDS.iloc[0,-1] =  5.45\n",
        "FEDFUNDS.iloc[1,-1] =  5.73\n",
        "FEDFUNDS[FEDFUNDS.isna().any(axis=1)]"
      ],
      "metadata": {
        "id": "h8Z3ntg_jju_"
      },
      "execution_count": null,
      "outputs": []
    },
    {
      "cell_type": "code",
      "source": [
        "# 3번째 데이터 처리 ICSA , 월별로 존재 대신 2023년부터 없음\n",
        "ICSA['Year'] = ICSA['DATE'].dt.year\n",
        "ICSA['Month'] = ICSA['DATE'].dt.month\n",
        "ICSA= ICSA.groupby(['Year', 'Month']).mean().reset_index()\n",
        "ICSA['ICSA_분기평균'] = ICSA.iloc[:,2].rolling(window = 3).mean()\n",
        "ICSA"
      ],
      "metadata": {
        "id": "F2b6Z4IWZzkI"
      },
      "execution_count": null,
      "outputs": []
    },
    {
      "cell_type": "code",
      "source": [
        "ICSA[ICSA.isna().any(axis=1)]\n",
        "ICSA.iloc[0,-1] =  288400.0\n",
        "ICSA[ICSA.isna().any(axis=1)]"
      ],
      "metadata": {
        "id": "X5wgcDQcjpMH"
      },
      "execution_count": null,
      "outputs": []
    },
    {
      "cell_type": "code",
      "source": [
        "# 4번째 데이터 m2\n",
        "M2['Year'] = M2['DATE'].dt.year\n",
        "M2['Month'] = M2['DATE'].dt.month\n",
        "M2= M2.groupby(['Year', 'Month']).mean().reset_index()\n",
        "M2['M2_분기평균'] = M2.iloc[:,2].rolling(window = 3).mean()\n",
        "M2"
      ],
      "metadata": {
        "id": "qqC1dIcWaJXR"
      },
      "execution_count": null,
      "outputs": []
    },
    {
      "cell_type": "code",
      "source": [
        "M2['M2_분기평균'].iloc[0] = 4666.2\n",
        "M2[M2.isna().any(axis=1)]"
      ],
      "metadata": {
        "id": "HH7DEKKtkdgK"
      },
      "execution_count": null,
      "outputs": []
    },
    {
      "cell_type": "code",
      "source": [
        "# 5번째 데이터 PCE # 1,4,7,10 이런식으로 있다는게 문제\n",
        "PCE['Year'] = PCE['DATE'].dt.year\n",
        "PCE['Month'] = PCE['DATE'].dt.month\n",
        "PCE= PCE.groupby(['Year', 'Month']).mean().reset_index()\n",
        "\n",
        "PCE['PCE_분기평균'] = PCE.iloc[:,2].rolling(window = 3).mean()\n",
        "PCE"
      ],
      "metadata": {
        "id": "2mv3J0tAaqxC"
      },
      "execution_count": null,
      "outputs": []
    },
    {
      "cell_type": "code",
      "source": [
        "PCE[PCE.isna().any(axis=1)]\n",
        "PCE.iloc[0,-1] =  2.1\n",
        "PCE.iloc[1,-1] =  1.4\n",
        "PCE[PCE.isna().any(axis=1)]"
      ],
      "metadata": {
        "id": "-r5OmyGClFMD"
      },
      "execution_count": null,
      "outputs": []
    },
    {
      "cell_type": "code",
      "source": [
        "# 6번째 데이터 PNFI\n",
        "PNFI['Year'] = PNFI['DATE'].dt.year\n",
        "PNFI['Month'] = PNFI['DATE'].dt.month\n",
        "PNFI= PNFI.groupby(['Year', 'Month']).mean().reset_index()\n",
        "\n",
        "PNFI['PNFI_분기평균'] = PNFI.PNFI # 나중에 전처리하고 다시 돌아오니 이거 만들 필요가 없었음"
      ],
      "metadata": {
        "id": "ydPL_SCgayjS"
      },
      "execution_count": null,
      "outputs": []
    },
    {
      "cell_type": "code",
      "source": [
        "PNFI[PNFI.isna().any(axis=1)]\n",
        "PNFI.iloc[0,-1] =  1450.250\n",
        "PNFI.iloc[1,-1] =  1498.729\n",
        "PNFI[PNFI.isna().any(axis=1)]"
      ],
      "metadata": {
        "id": "8cFlxHD_lZtu"
      },
      "execution_count": null,
      "outputs": []
    },
    {
      "cell_type": "code",
      "source": [
        "# 7번째 데이터 RSXFS\n",
        "RSXFS['Year'] = RSXFS['DATE'].dt.year\n",
        "RSXFS['Month'] = RSXFS['DATE'].dt.month\n",
        "RSXFS= RSXFS.groupby(['Year', 'Month']).mean().reset_index()\n",
        "\n",
        "RSXFS['RSXFS_분기평균'] = RSXFS.iloc[:,2].rolling(window = 3).mean()\n",
        "RSXFS"
      ],
      "metadata": {
        "id": "-KwJgRZ_bCQl"
      },
      "execution_count": null,
      "outputs": []
    },
    {
      "cell_type": "code",
      "source": [
        "RSXFS[RSXFS.isna().any(axis=1)]\n",
        "RSXFS.iloc[0,-1] =  243436.0\n",
        "RSXFS.iloc[1,-1] =  247133.0\n",
        "RSXFS[RSXFS.isna().any(axis=1)]"
      ],
      "metadata": {
        "id": "7JUuHM-3ln_f"
      },
      "execution_count": null,
      "outputs": []
    },
    {
      "cell_type": "code",
      "source": [
        "# 8번째 데이터 T10Y2Y\n",
        "T10Y2Y['Year'] = T10Y2Y['DATE'].dt.year\n",
        "T10Y2Y['Month'] = T10Y2Y['DATE'].dt.month\n",
        "T10Y2Y= T10Y2Y.groupby(['Year', 'Month']).mean().reset_index()\n",
        "\n",
        "T10Y2Y['T10Y2Y_분기평균'] = T10Y2Y.iloc[:,2].rolling(window = 3).mean()\n",
        "T10Y2Y"
      ],
      "metadata": {
        "id": "D-X-GTJ3bEJP"
      },
      "execution_count": null,
      "outputs": []
    },
    {
      "cell_type": "code",
      "source": [
        "T10Y2Y[T10Y2Y.isna().any(axis=1)]\n",
        "T10Y2Y.iloc[0,-1] =  0.221\n",
        "T10Y2Y.iloc[1,-1] =  -0.091\n",
        "T10Y2Y[T10Y2Y.isna().any(axis=1)]"
      ],
      "metadata": {
        "id": "PiR9VuP6l2EA"
      },
      "execution_count": null,
      "outputs": []
    },
    {
      "cell_type": "code",
      "source": [
        "# 9번째 데이터 UNRATE\n",
        "UNRATE['Year'] = UNRATE['DATE'].dt.year\n",
        "UNRATE['Month'] = UNRATE['DATE'].dt.month\n",
        "UNRATE= UNRATE.groupby(['Year', 'Month']).mean().reset_index()\n",
        "\n",
        "UNRATE['UNRATE_분기평균'] = UNRATE.iloc[:,2].rolling(window = 3).mean()\n",
        "UNRATE"
      ],
      "metadata": {
        "id": "1BJJRs7rbEhH"
      },
      "execution_count": null,
      "outputs": []
    },
    {
      "cell_type": "code",
      "source": [
        "UNRATE[UNRATE.isna().any(axis=1)]\n",
        "UNRATE.UNRATE_분기평균.iloc[0] = 4.0"
      ],
      "metadata": {
        "id": "j7FLbwYMmCY2"
      },
      "execution_count": null,
      "outputs": []
    },
    {
      "cell_type": "code",
      "source": [
        "# 10번째 데이터 USSTHPI\n",
        "USSTHPI['Year'] = USSTHPI['DATE'].dt.year\n",
        "USSTHPI['Month'] = USSTHPI['DATE'].dt.month\n",
        "USSTHPI= USSTHPI.groupby(['Year', 'Month']).mean().reset_index()\n",
        "\n",
        "USSTHPI['USSTHPI_분기평균'] = USSTHPI.iloc[:,2].rolling(window = 3).mean()\n",
        "USSTHPI"
      ],
      "metadata": {
        "id": "FJupxFmxbEpN"
      },
      "execution_count": null,
      "outputs": []
    },
    {
      "cell_type": "code",
      "source": [
        "USSTHPI[USSTHPI.isna().any(axis=1)]\n",
        "USSTHPI.iloc[0,-1] =  230.15\n",
        "USSTHPI.iloc[1,-1] =  233.89\n",
        "USSTHPI[USSTHPI.isna().any(axis=1)]"
      ],
      "metadata": {
        "id": "62DdGb88mONh"
      },
      "execution_count": null,
      "outputs": []
    },
    {
      "cell_type": "code",
      "source": [
        "# 11번째 데이터 UMTMNO\n",
        "UMTMNO['Year'] = UMTMNO['DATE'].dt.year\n",
        "UMTMNO['Month'] = UMTMNO['DATE'].dt.month\n",
        "UMTMNO= UMTMNO.groupby(['Year', 'Month']).mean().reset_index()\n",
        "\n",
        "UMTMNO['UMTMNO_분기평균'] = UMTMNO.iloc[:,2].rolling(window = 3).mean()\n",
        "UMTMNO"
      ],
      "metadata": {
        "id": "6xDvJ94CbEti"
      },
      "execution_count": null,
      "outputs": []
    },
    {
      "cell_type": "code",
      "source": [
        "UMTMNO[UMTMNO.isna().any(axis=1)]\n",
        "UMTMNO.iloc[0,-1] =  337504.0\n",
        "UMTMNO.iloc[1,-1] =  370003.0\n",
        "UMTMNO[UMTMNO.isna().any(axis=1)]"
      ],
      "metadata": {
        "id": "LHl75wikmknd"
      },
      "execution_count": null,
      "outputs": []
    },
    {
      "cell_type": "code",
      "source": [
        "# 리스트 재지정\n",
        "list = [BAMLH0A0HYM2, FEDFUNDS, ICSA, M2, PCE,PNFI,RSXFS,T10Y2Y,UNRATE,USSTHPI,UMTMNO ]\n",
        "df_ = BAMLH0A0HYM2[['Year','Month']] # 데이터 개수가 가장 많으니까\n",
        "# 모든 데이터를 데이터프레임화\n",
        "for i in list :\n",
        "    df_ =  pd.merge(df_, i, on= ['Year', 'Month'], how='left')\n",
        "    df_ = df_.loc[df_.Year != 2024]"
      ],
      "metadata": {
        "id": "NOfontbLfA87"
      },
      "execution_count": null,
      "outputs": []
    },
    {
      "cell_type": "code",
      "source": [
        "# 결측치 확인과 처리 # 2000년 ~ 2021년까지 학습할 것 같음 2023년 데이터가 통으로 없는게 있어서\n",
        "df_ = df_.loc[df_.Year <= 2021]"
      ],
      "metadata": {
        "id": "ru9as2CrbE12"
      },
      "execution_count": null,
      "outputs": []
    },
    {
      "cell_type": "code",
      "source": [
        "# 합치면서 사라진 결측치 처리하고 분기별로 뽑기\n",
        "df_ = df_.loc[df_['Month'].isin([1, 4, 7, 10])]\n",
        "df_"
      ],
      "metadata": {
        "id": "PNYMyCIUbE6P"
      },
      "execution_count": null,
      "outputs": []
    },
    {
      "cell_type": "code",
      "source": [
        "df_.columns"
      ],
      "metadata": {
        "id": "iWpJF52BqxAW"
      },
      "execution_count": null,
      "outputs": []
    },
    {
      "cell_type": "code",
      "source": [
        "df_ = df_[['Year','Month','BAMLH0A0HYM2_분기평균', 'FEDFUNDS_분기평균', 'ICSA_분기평균', 'M2_분기평균', 'PCE_분기평균', 'PNFI_분기평균', 'RSXFS_분기평균','T10Y2Y_분기평균', 'UNRATE_분기평균','USSTHPI_분기평균','UMTMNO_분기평균']]"
      ],
      "metadata": {
        "id": "V5yHA7KitnEG"
      },
      "execution_count": null,
      "outputs": []
    },
    {
      "cell_type": "code",
      "source": [
        "#df_.fillna(metode = 'bfill')\n",
        "df_.M2_분기평균 = df_.M2_분기평균.fillna(method = 'bfill')\n",
        "df_.UNRATE_분기평균 = df_.UNRATE_분기평균.fillna(method = 'bfill')\n",
        "df_.UMTMNO_분기평균 = df_.UMTMNO_분기평균.fillna(method = 'bfill')\n",
        "df_"
      ],
      "metadata": {
        "id": "QjL-jVLavFMU"
      },
      "execution_count": null,
      "outputs": []
    },
    {
      "cell_type": "code",
      "source": [
        "\n",
        "# 한글 폰트 사용을 위해서 세팅\n",
        "import matplotlib.pyplot as plt\n",
        "from matplotlib import font_manager, rc\n",
        "\n",
        "import matplotlib.pyplot as plt\n",
        "plt.rc('font', family='NanumBarunGothic')\n",
        "ax = df_.plot(x='Year', y= ['BAMLH0A0HYM2_분기평균',\n",
        "       'FEDFUNDS_분기평균', 'ICSA_분기평균', 'M2_분기평균',\n",
        "        'PCE_분기평균', 'PNFI_분기평균',\n",
        "       'RSXFS_분기평균','T10Y2Y_분기평균', 'UNRATE_분기평균',\n",
        "       'USSTHPI_분기평균','UMTMNO_분기평균'], kind='line')\n",
        "\n",
        "# 그래프 출력\n",
        "ax.set_yscale('linear')  # 00.set_yscale() 함수log를 입력한다면 로그 스케일로 변경\n",
        "plt.title('경제데이터')\n",
        "plt.figure(figsize =(20,10))\n",
        "plt.show()"
      ],
      "metadata": {
        "id": "QZzBGXcgqJC0"
      },
      "execution_count": null,
      "outputs": []
    },
    {
      "cell_type": "code",
      "source": [
        "# 스케일이 작은 것끼리 모아놓음\n",
        "# 한글 폰트 사용을 위해서 세팅\n",
        "import matplotlib.pyplot as plt\n",
        "from matplotlib import font_manager, rc\n",
        "\n",
        "import matplotlib.pyplot as plt\n",
        "plt.rc('font', family='NanumBarunGothic')\n",
        "ax = df_.plot(x='Year', y= ['BAMLH0A0HYM2_분기평균',\n",
        "       'FEDFUNDS_분기평균',\n",
        "        'PCE_분기평균',\n",
        "       'T10Y2Y_분기평균', 'UNRATE_분기평균',\n",
        "       ], kind='line')\n",
        "\n",
        "# 그래프 출력\n",
        "ax.set_yscale('linear')  # 00.set_yscale() 함수에 log를 입력한다면 로그 스케일로 변경\n",
        "plt.title('경제데이터')\n",
        "plt.figure(figsize =(20,2))\n",
        "plt.show()"
      ],
      "metadata": {
        "id": "siD0W7c_uXx5"
      },
      "execution_count": null,
      "outputs": []
    },
    {
      "cell_type": "code",
      "source": [
        "import numpy as np\n",
        "\n",
        "# 그래프 크기 조정\n",
        "가로, 세로 = 25, 12  # 원하는 크기로 조절\n",
        "fig, axs = plt.subplots(nrows=3, ncols=4, figsize=(가로, 세로))  # 3행 4열의 서브 플롯 생성\n",
        "\n",
        "# 각 컬럼에 대한 서브 플롯 그리기\n",
        "for i, col in enumerate(['BAMLH0A0HYM2_분기평균',\n",
        "       'FEDFUNDS_분기평균', 'ICSA_분기평균', 'M2_분기평균', 'PCE_분기평균', 'PNFI_분기평균',\n",
        "       'RSXFS_분기평균','T10Y2Y_분기평균', 'UNRATE_분기평균',\n",
        "       'USSTHPI_분기평균','UMTMNO_분기평균']):\n",
        "    df_.plot(x='Year', y=col, kind='line', ax=axs[i//4, i%4], color='blue')\n",
        "    axs[i//4, i%4].set_title(f'{col} 서브 플롯')\n",
        "\n",
        "# 그래프 출력\n",
        "plt.show()"
      ],
      "metadata": {
        "id": "N3q7pbwEwqAT"
      },
      "execution_count": null,
      "outputs": []
    },
    {
      "cell_type": "code",
      "source": [
        "#M2, PNFL, RSXFS, USSTHPI,UMTMNO 추세를 조정 (1차 차분)\n",
        "\n",
        "df_['M2_분기평균'] = df_['M2_분기평균'].diff().fillna(method = 'bfill')\n",
        "df_['PNFI_분기평균'] = df_['PNFI_분기평균'].diff().fillna(method = 'bfill')\n",
        "df_['RSXFS_분기평균'] = df_['RSXFS_분기평균'].diff().fillna(method = 'bfill')\n",
        "df_['USSTHPI_분기평균'] = df_['USSTHPI_분기평균'].diff().fillna(method = 'bfill')\n",
        "df_['UMTMNO_분기평균'] = df_['UMTMNO_분기평균'].diff().fillna(method = 'bfill')\n",
        "\n",
        "# # 차분 후 그래프 다시 확인\n",
        "# # 그래프 크기 조정\n",
        "# 가로, 세로 = 25, 12  # 원하는 크기로 조절\n",
        "fig, axs = plt.subplots(nrows=3, ncols=4, figsize=(가로, 세로))  # 3행 4열의 서브 플롯 생성\n",
        "\n",
        "# # 각 컬럼에 대한 서브 플롯 그리기\n",
        "for i, col in enumerate(['BAMLH0A0HYM2_분기평균',\n",
        "        'FEDFUNDS_분기평균', 'ICSA_분기평균', 'M2_분기평균', 'PCE_분기평균', 'PNFI_분기평균',\n",
        "        'RSXFS_분기평균','T10Y2Y_분기평균', 'UNRATE_분기평균',\n",
        "        'USSTHPI_분기평균','UMTMNO_분기평균']):\n",
        "     df_.plot(y=col, kind='line', ax=axs[i//4, i%4], color='blue')\n",
        "     axs[i//4, i%4].set_title(f'{col} 서브 플롯')\n",
        "\n",
        "# # 그래프 출력\n",
        "plt.show()\n",
        "\n"
      ],
      "metadata": {
        "id": "hNcIVKkjRlJN"
      },
      "execution_count": null,
      "outputs": []
    },
    {
      "cell_type": "markdown",
      "source": [],
      "metadata": {
        "id": "6u6VeJBaRkx5"
      }
    },
    {
      "cell_type": "markdown",
      "source": [
        "https://www.kaggle.com/code/tanmay111999/clustering-pca-k-means-dbscan-hierarchical\n",
        "\n",
        "* 이제 군집화"
      ],
      "metadata": {
        "id": "CL-3O_OBs9nC"
      }
    },
    {
      "cell_type": "code",
      "source": [
        "# 3개의 데이터는 거의다 결측치가 있는데  합치는과정에서인지 아니면 처음부터 없었는지 파악"
      ],
      "metadata": {
        "id": "fjr0IDwvz0qh"
      },
      "execution_count": null,
      "outputs": []
    },
    {
      "cell_type": "code",
      "source": [
        "from sklearn.cluster import KMeans\n",
        "from sklearn.preprocessing import scale\n",
        "\n",
        "df_['Year'] = df_['Year'].astype(str)\n",
        "df_['Month'] = df_['Month'].astype(str)\n",
        "df_['DATE'] = df_['Year'] +'-'+ df_['Month']\n",
        "df_ = df_.drop(columns = ['Year', 'Month']) # 연,월 컬럼 제거\n",
        "df_['DATE'] = pd.to_datetime(df_['DATE'])\n",
        "df_.set_index('DATE',inplace = True) # 데이트를 인덱스로\n",
        "# 데이트를 datetime으로 변경해라"
      ],
      "metadata": {
        "id": "ruFT_08LhMMc"
      },
      "execution_count": null,
      "outputs": []
    },
    {
      "cell_type": "code",
      "source": [
        "df_ # date의 일(day)는 제거해야함"
      ],
      "metadata": {
        "id": "i9aLxDExxXYF"
      },
      "execution_count": null,
      "outputs": []
    },
    {
      "cell_type": "markdown",
      "source": [
        "https://hweejin.tistory.com/entry/%ED%81%B4%EB%9F%AC%EC%8A%A4%ED%84%B0%EB%A7%81-%EB%B6%84%EC%84%9D-3-%EC%8A%A4%EC%BC%80%EC%9D%BC-%EC%A1%B0%EC%A0%95\n",
        "스케일러설명"
      ],
      "metadata": {
        "id": "LD58vxi37dvQ"
      }
    },
    {
      "cell_type": "markdown",
      "source": [],
      "metadata": {
        "id": "OtjtRBQO7dn4"
      }
    },
    {
      "cell_type": "code",
      "source": [
        "# 피쳐 스케일링\n",
        "from sklearn.preprocessing import MinMaxScaler\n",
        "scaler = MinMaxScaler()\n",
        "scaler.fit(df_)\n",
        "scaled_df = scaler.transform(df_)\n",
        "scaled_df = pd.DataFrame(index=df_.index ,data= scaled_df, columns=df_.columns)\n",
        "scaled_df"
      ],
      "metadata": {
        "id": "-gm_HubT6C2v"
      },
      "execution_count": null,
      "outputs": []
    },
    {
      "cell_type": "code",
      "source": [
        "\n",
        "\n",
        "# 차원축소  - 적절한 차원은 얼마인가?\n",
        "from sklearn.decomposition import PCA\n",
        "\n",
        "pca = PCA(n_components=2)\n",
        "pca_transformed = pca.fit_transform(scaled_df)\n",
        "scaled_df['pca_x'] = pca_transformed[:, 0]\n",
        "scaled_df['pca_y'] = pca_transformed[:, 1]\n",
        "scaled_df.head()\n",
        "\n",
        "\n",
        "kmeans = KMeans(n_clusters =4, init = 'k-means++', max_iter= 300, random_state= 0) # 군집을 4개로\n",
        "kmeans.fit(scaled_df)\n"
      ],
      "metadata": {
        "id": "dM9b_8mRRR2A"
      },
      "execution_count": null,
      "outputs": []
    },
    {
      "cell_type": "code",
      "source": [
        "# 그래프 크기 조정\n",
        "가로, 세로 = 25, 12  # 원하는 크기로 조절\n",
        "fig, axs = plt.subplots(nrows=4, ncols=4, figsize=(가로, 세로))  # 4행 5열의 서브 플롯 생성\n",
        "\n",
        "# 각 컬럼에 대한 서브 플롯 그리기\n",
        "\n",
        "for i, col in enumerate(scaled_df.columns):\n",
        "    scaled_df.plot( y=col, kind='line', ax=axs[i//4, i%4], color='blue')\n",
        "    axs[i//4, i%4].set_title(f'{col} 서브 플롯')\n",
        "\n",
        "# 그래프 출력\n",
        "plt.show()\n",
        "\n",
        "\n"
      ],
      "metadata": {
        "id": "SyBkS-KC8W_X"
      },
      "execution_count": null,
      "outputs": []
    },
    {
      "cell_type": "code",
      "source": [
        "# KMeans 군집화와 PCA 변환 결과를 산점도로 표현합니다.\n",
        "plt.scatter(scaled_df['pca_x'], scaled_df['pca_y'], c=kmeans.labels_, cmap='Blues', marker='o', alpha=0.8, edgecolors='w')\n",
        "\n",
        "# 각 클러스터의 중심점을 빨간색 'X'로 표시합니다.\n",
        "plt.scatter(kmeans.cluster_centers_[:, 0], kmeans.cluster_centers_[:, 1], s=200, c='red', marker='X', label='중심점')\n",
        "\n",
        "plt.title('KMeans 군집화와 PCA 변환 결과')\n",
        "plt.xlabel('PCA 주성분 1')\n",
        "plt.ylabel('PCA 주성분 2')\n",
        "# plt.legend()\n",
        "plt.show()\n",
        "\n",
        "# 스케일링 안하면 이렇게 큰 값의 영향을 많이 받음"
      ],
      "metadata": {
        "id": "CrPAflcl2aiU"
      },
      "execution_count": null,
      "outputs": []
    },
    {
      "cell_type": "code",
      "source": [
        "# 1. 연도조정 , 2. PCA 컴포넌트 크기 ,PCA 여부 3. K-MEANS K개수, 그리고 K-MEANS 하는게 맞는지\n",
        "# 기초통계량\n",
        "scaled_df.describe()"
      ],
      "metadata": {
        "id": "cqmdRq8TYUV9"
      },
      "execution_count": null,
      "outputs": []
    }
  ]
}